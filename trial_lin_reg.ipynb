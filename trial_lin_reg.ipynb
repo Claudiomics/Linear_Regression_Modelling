{
 "cells": [
  {
   "cell_type": "code",
   "execution_count": 7,
   "metadata": {},
   "outputs": [],
   "source": [
    "import pandas as pd\n",
    "import numpy as np\n",
    "import seaborn as sns\n",
    "import matplotlib.pyplot as plt"
   ]
  },
  {
   "cell_type": "markdown",
   "metadata": {},
   "source": [
    "I will be using the 'SUPPORT 2' dataset from the UCI machine learning repository. It's description:\n",
    "'This dataset comprises 9105 individual critically ill patients across 5 United States medical centers, accessioned throughout 1989-1991 and 1992-1994. Each row concerns hospitalized patient records who met the inclusion and exclusion criteria for nine disease categories: acute respiratory failure, chronic obstructive pulmonary disease, congestive heart failure, liver disease, coma, colon cancer, lung cancer, multiple organ system failure with malignancy, and multiple organ system failure with sepsis. The goal is to determine these patients' 2- and 6-month survival rates based on several physiologic, demographics, and disease severity information. It is an important problem because it addresses the growing national concern over patients' loss of control near the end of life. It enables earlier decisions and planning to reduce the frequency of a mechanical, painful, and prolonged dying process.'\n",
    "\n",
    "This can be found here: https://archive.ics.uci.edu/dataset/880/support2 \n",
    "\n",
    "My aim is to create a model to predict length of stay of the patients using several variable factors."
   ]
  },
  {
   "cell_type": "code",
   "execution_count": null,
   "metadata": {},
   "outputs": [],
   "source": [
    "# First step is to load in the data\n",
    "\n",
    "#supp = pd.read_csv\n"
   ]
  },
  {
   "cell_type": "code",
   "execution_count": 8,
   "metadata": {},
   "outputs": [
    {
     "name": "stdout",
     "output_type": "stream",
     "text": [
      "Collecting ucimlrepo\n",
      "  Downloading ucimlrepo-0.0.7-py3-none-any.whl.metadata (5.5 kB)\n",
      "Requirement already satisfied: pandas>=1.0.0 in /usr/local/lib/python3.11/site-packages (from ucimlrepo) (2.2.3)\n",
      "Collecting certifi>=2020.12.5 (from ucimlrepo)\n",
      "  Downloading certifi-2024.8.30-py3-none-any.whl.metadata (2.2 kB)\n",
      "Requirement already satisfied: numpy>=1.23.2 in /usr/local/lib/python3.11/site-packages (from pandas>=1.0.0->ucimlrepo) (2.1.2)\n",
      "Requirement already satisfied: python-dateutil>=2.8.2 in /Users/Claudia/Library/Python/3.11/lib/python/site-packages (from pandas>=1.0.0->ucimlrepo) (2.8.2)\n",
      "Requirement already satisfied: pytz>=2020.1 in /usr/local/lib/python3.11/site-packages (from pandas>=1.0.0->ucimlrepo) (2024.2)\n",
      "Requirement already satisfied: tzdata>=2022.7 in /usr/local/lib/python3.11/site-packages (from pandas>=1.0.0->ucimlrepo) (2024.2)\n",
      "Requirement already satisfied: six>=1.5 in /Users/Claudia/Library/Python/3.11/lib/python/site-packages (from python-dateutil>=2.8.2->pandas>=1.0.0->ucimlrepo) (1.16.0)\n",
      "Downloading ucimlrepo-0.0.7-py3-none-any.whl (8.0 kB)\n",
      "Downloading certifi-2024.8.30-py3-none-any.whl (167 kB)\n",
      "\u001b[2K   \u001b[90m━━━━━━━━━━━━━━━━━━━━━━━━━━━━━━━━━━━━━━━━\u001b[0m \u001b[32m167.3/167.3 kB\u001b[0m \u001b[31m1.9 MB/s\u001b[0m eta \u001b[36m0:00:00\u001b[0m00:01\u001b[0m\n",
      "\u001b[?25hInstalling collected packages: certifi, ucimlrepo\n",
      "Successfully installed certifi-2024.8.30 ucimlrepo-0.0.7\n",
      "\n",
      "\u001b[1m[\u001b[0m\u001b[34;49mnotice\u001b[0m\u001b[1;39;49m]\u001b[0m\u001b[39;49m A new release of pip is available: \u001b[0m\u001b[31;49m24.0\u001b[0m\u001b[39;49m -> \u001b[0m\u001b[32;49m24.3.1\u001b[0m\n",
      "\u001b[1m[\u001b[0m\u001b[34;49mnotice\u001b[0m\u001b[1;39;49m]\u001b[0m\u001b[39;49m To update, run: \u001b[0m\u001b[32;49mpython3.11 -m pip install --upgrade pip\u001b[0m\n",
      "Note: you may need to restart the kernel to use updated packages.\n"
     ]
    }
   ],
   "source": [
    "pip install ucimlrepo"
   ]
  },
  {
   "cell_type": "code",
   "execution_count": 9,
   "metadata": {},
   "outputs": [
    {
     "name": "stdout",
     "output_type": "stream",
     "text": [
      "{'uci_id': 880, 'name': 'SUPPORT2', 'repository_url': 'https://archive.ics.uci.edu/dataset/880/support2', 'data_url': 'https://archive.ics.uci.edu/static/public/880/data.csv', 'abstract': \"This dataset comprises 9105 individual critically ill patients across 5 United States medical centers, accessioned throughout 1989-1991 and 1992-1994.\\nEach row concerns hospitalized patient records who met the inclusion and exclusion criteria for nine disease categories: acute respiratory failure, chronic obstructive pulmonary disease, congestive heart failure, liver disease, coma, colon cancer, lung cancer, multiple organ system failure with malignancy, and multiple organ system failure with sepsis. The goal is to determine these patients' 2- and 6-month survival rates based on several physiologic, demographics, and disease severity information. \\nIt is an important problem because it addresses the growing national concern over patients' loss of control near the end of life. It enables earlier decisions and planning to reduce the frequency of a mechanical, painful, and prolonged dying process.\", 'area': 'Health and Medicine', 'tasks': ['Classification', 'Regression', 'Other'], 'characteristics': ['Tabular', 'Multivariate'], 'num_instances': 9105, 'num_features': 42, 'feature_types': ['Real', 'Categorical', 'Integer'], 'demographics': ['Age', 'Sex', 'Education Level', 'Income', 'Race'], 'target_col': ['death', 'hospdead', 'sfdm2'], 'index_col': ['id'], 'has_missing_values': 'yes', 'missing_values_symbol': 'NaN', 'year_of_dataset_creation': 1995, 'last_updated': 'Mon Sep 09 2024', 'dataset_doi': '10.3886/ICPSR02957.v2', 'creators': ['Frank Harrel'], 'intro_paper': {'ID': 298, 'type': 'NATIVE', 'title': 'A controlled trial to improve care for seriously ill hospitalized patients. The study to understand prognoses and preferences for outcomes and risks of treatments (SUPPORT)', 'authors': 'The SUPPORT Principal Investigators', 'venue': 'In the Journal of the American Medical Association, 274(20):1591–1598', 'year': 1995, 'journal': None, 'DOI': None, 'URL': 'https://pubmed.ncbi.nlm.nih.gov/7474243/', 'sha': None, 'corpus': None, 'arxiv': None, 'mag': None, 'acl': None, 'pmid': None, 'pmcid': None}, 'additional_info': {'summary': \"Data sources are medical records, personal interviews, and the National Death Index (NDI). For each patient administrative records data, clinical data and survey data were collected.\\nThe objective of the SUPPORT project was to improve decision-making in order to address the growing national concern over the loss of control that patients have near the end of life and to reduce the frequency of a mechanical, painful, and prolonged process of dying. SUPPORT comprised a two-year prospective observational study (Phase I) followed by a two-year controlled clinical trial (Phase II). Phase I of SUPPORT collected data from patients accessioned during 1989-1991 to characterize the care, treatment preferences, and patterns of decision-making among critically ill patients. It also served as a preliminary step for devising an intervention strategy for improving critically-ill patients' care and for the construction of statistical models for predicting patient prognosis and functional status. An intervention was implemented in Phase II of SUPPORT, which accessioned patients during 1992-1994. The Phase II intervention provided physicians with accurate predictive information on future functional ability, survival probability to six months, and patients' preferences for end-of-life care. Additionally, a skilled nurse was provided as part of the intervention to elicit patient preferences, provide prognoses, enhance understanding, enable palliative care, and facilitate advance planning. The intervention was expected to increase communication, resulting in earlier decisions to have orders against resuscitation, decrease time that patients spent in undesirable states (e.g., in the Intensive Care Unit, on a ventilator, and in a coma), increase physician understanding of patients' preferences for care, decrease patient pain, and decrease hospital resource use. Data collection in both phases of SUPPORT consisted of questionnaires administered to patients, their surrogates, and physicians, plus chart reviews for abstracting clinical, treatment, and decision information. Phase II also collected information regarding the implementation of the intervention, such as patient-specific logs maintained by nurses assigned to patients as part of the intervention. SUPPORT patients were followed for six months after inclusion in the study. Those who did not die within six months or were lost to follow-up were matched against the National Death Index to identify deaths through 1997. Patients who did not die within one year or were lost to follow-up were matched against the National Death Index to identify deaths through 1997.\\nAll patients in five United States medical centers who met inclusion and exclusion criteria for nine disease categories: acute respiratory failure, chronic obstructive pulmonary disease, congestive heart failure, liver disease, coma, colon cancer, lung cancer, multiple organ system failure with malignancy, and multiple organ system failure with sepsis. SUPPORT is a combination of patients from 2 studies, each of which lasted 2 years. The first phase concerns 4,301 patients, whereas the second phase concerns 4,804 patients. Time wise, these studies were accessioned in 1989 (June 12) through 1991 (June 11) for phase I and in 1992 (January 7) through 1994 (January 24).\", 'purpose': \"To develop and validate a prognostic model that estimates survival over a 180-day period for seriously ill hospitalized adults (phase I of SUPPORT) and to compare this model's predictions with those of an existing prognostic system and with physicians' independent estimates (SUPPORT phase II).\", 'funded_by': 'Funded by the Robert Wood Johnson Foundation\\n', 'instances_represent': 'The instances represent records of critically ill patients admitted to United States hospitals with advanced stages of serious illness.\\n', 'recommended_data_splits': 'No recommendation, standard train-test split could be used. Can use three-way holdout split (i.e., train-validation-test) when doing model selection.', 'sensitive_data': 'Yes. There is information about race, gender, income, and education level.', 'preprocessing_description': 'No.  Due to the high percentage of missing values, there are a couple of recommended imputation values:\\nAccording to the HBiostat Repository (https://hbiostat.org/data/repo/supportdesc, Professor Frank Harrell) the following default values have been found to be useful in imputing missing baseline physiologic data:\\nBaseline Variable\\tNormal Fill-in Value\\n- Serum albumin (alb)\\t3.5\\n- PaO2/FiO2 ratio (pafi) \\t333.3\\n- Bilirubin (bili)\\t1.01\\n- Creatinine (crea)\\t1.01\\n- bun\\t6.51\\n- White blood count (wblc)\\t9 (thousands)\\n- Urine output (urine)\\t2502\\nThere are 159 patients surviving 2 months for whom there were no patient or surrogate interviews. These patients have missing sfdm2.', 'variable_info': None, 'citation': 'Please acknowledge the source of this dataset as being from Vanderbilt University Department of Biostatistics, Professor Frank Harrell 2022, url: https://hbiostat.org/data/'}, 'external_url': 'https://hbiostat.org/data'}\n",
      "        name     role         type      demographic  \\\n",
      "0         id       ID      Integer             None   \n",
      "1        age  Feature   Continuous              Age   \n",
      "2      death   Target   Continuous             None   \n",
      "3        sex  Feature  Categorical              Sex   \n",
      "4   hospdead   Target       Binary             None   \n",
      "5       slos    Other   Continuous             None   \n",
      "6     d.time    Other   Continuous             None   \n",
      "7    dzgroup  Feature  Categorical             None   \n",
      "8    dzclass  Feature  Categorical             None   \n",
      "9     num.co  Feature   Continuous             None   \n",
      "10       edu  Feature  Categorical  Education Level   \n",
      "11    income  Feature  Categorical           Income   \n",
      "12     scoma  Feature   Continuous             None   \n",
      "13   charges  Feature   Continuous             None   \n",
      "14    totcst  Feature   Continuous             None   \n",
      "15   totmcst  Feature   Continuous             None   \n",
      "16   avtisst  Feature   Continuous             None   \n",
      "17      race  Feature  Categorical             Race   \n",
      "18       sps  Feature   Continuous             None   \n",
      "19       aps  Feature   Continuous             None   \n",
      "20    surv2m  Feature   Continuous             None   \n",
      "21    surv6m  Feature   Continuous             None   \n",
      "22      hday  Feature      Integer             None   \n",
      "23  diabetes  Feature   Continuous             None   \n",
      "24  dementia  Feature   Continuous             None   \n",
      "25        ca  Feature  Categorical             None   \n",
      "26     prg2m  Feature   Continuous             None   \n",
      "27     prg6m  Feature  Categorical             None   \n",
      "28       dnr  Feature  Categorical             None   \n",
      "29    dnrday  Feature   Continuous             None   \n",
      "30    meanbp  Feature   Continuous             None   \n",
      "31      wblc  Feature   Continuous             None   \n",
      "32       hrt  Feature   Continuous             None   \n",
      "33      resp  Feature   Continuous             None   \n",
      "34      temp  Feature   Continuous             None   \n",
      "35      pafi  Feature   Continuous             None   \n",
      "36       alb  Feature   Continuous             None   \n",
      "37      bili  Feature   Continuous             None   \n",
      "38      crea  Feature   Continuous             None   \n",
      "39       sod  Feature   Continuous             None   \n",
      "40        ph  Feature   Continuous             None   \n",
      "41   glucose  Feature      Integer             None   \n",
      "42       bun  Feature      Integer             None   \n",
      "43     urine  Feature      Integer             None   \n",
      "44      adlp  Feature  Categorical             None   \n",
      "45      adls  Feature   Continuous             None   \n",
      "46     sfdm2   Target  Categorical             None   \n",
      "47     adlsc  Feature   Continuous             None   \n",
      "\n",
      "                                          description  units missing_values  \n",
      "0                                                None   None             no  \n",
      "1                        Age of the patients in years  years             no  \n",
      "2   Death at any time up to National Death Index (...   None             no  \n",
      "3   Gender of the patient. Listed values are {male...   None             no  \n",
      "4                                   Death in hospital   None             no  \n",
      "5                  Days from Study Entry to Discharge   None             no  \n",
      "6                                   Days of follow-up   None             no  \n",
      "7   The patient's disease sub category amogst ARF/...   None             no  \n",
      "8   The patient's disease category amongst \"ARF/MO...   None             no  \n",
      "9   The number of simultaneous diseases (or comorb...   None             no  \n",
      "10                                 Years of education  years            yes  \n",
      "11  Income of the patient. Listed values are {\"$11...   None            yes  \n",
      "12  SUPPORT day 3 Coma Score based on Glasgow scal...   None            yes  \n",
      "13                                   Hospital charges   None            yes  \n",
      "14         Total ratio of costs to charges (RCC) cost   None            yes  \n",
      "15                                   Total micro cost   None            yes  \n",
      "16  Average TISS score, days 3-25, where Therapeut...   None            yes  \n",
      "17  Race of the patient. Listed values are {asian,...   None            yes  \n",
      "18  SUPPORT physiology score on day 3 (predicted b...   None            yes  \n",
      "19  APACHE III day 3 physiology score (no coma, im...   None            yes  \n",
      "20  SUPPORT model 2-month survival estimate at day...   None            yes  \n",
      "21  SUPPORT model 6-month survival estimate at day...   None            yes  \n",
      "22    Day in hospital at which patient entered study.   None             no  \n",
      "23  Whether the patient exhibits diabetes (Com 27-...   None             no  \n",
      "24  Whether the patient exhibits dementia (Comorbi...   None             no  \n",
      "25  Whether the patient has cancer (yes), whether ...   None             no  \n",
      "26  Physician’s 2-month survival estimate for pati...   None            yes  \n",
      "27  Physician’s 6-month survival estimate for pati...   None            yes  \n",
      "28  Whether the patient has a do not rescuscitate ...   None            yes  \n",
      "29              Day of DNR order (<0 if before study)   None            yes  \n",
      "30  mean arterial blood pressure of the patient, m...   None            yes  \n",
      "31  counts of white blood cells (in thousands) mea...   None            yes  \n",
      "32       heart rate of the patient measured at day 3.   None            yes  \n",
      "33  respiration rate of the patient measured at da...   None            yes  \n",
      "34  temperature in Celsius degrees measured at day 3.   None             no  \n",
      "35  $PaO_2/FiO_2$ ratio measured at day 3. The rat...   None            yes  \n",
      "36            serum albumin levels measured at day 3.   None            yes  \n",
      "37                bilirubin levels measured at day 3.   None            yes  \n",
      "38         serum creatinine levels measured at day 3.   None            yes  \n",
      "39      serum sodium concentration measured at day 3.   None            yes  \n",
      "40  Arterial blood pH. The pH of blood is usually ...   None            yes  \n",
      "41                  Glucose levels measured at day 3.   None            yes  \n",
      "42      Blood urea nitrogen levels measured at day 3.   None            yes  \n",
      "43                    Urine output measured at day 3.   None            yes  \n",
      "44  Index of Activities of Daily Living (ADL) of t...   None            yes  \n",
      "45  Index of Activities of Daily Living (ADL) of t...   None            yes  \n",
      "46  Level of functional disability of the patient ...   None            yes  \n",
      "47               Imputed ADL Calibrated to Surrogate.   None             no  \n"
     ]
    }
   ],
   "source": [
    "from ucimlrepo import fetch_ucirepo \n",
    "  \n",
    "# fetch dataset \n",
    "support2 = fetch_ucirepo(id=880) \n",
    "  \n",
    "# data (as pandas dataframes) \n",
    "X = support2.data.features \n",
    "y = support2.data.targets \n",
    "  \n",
    "# metadata \n",
    "print(support2.metadata) \n",
    "  \n",
    "# variable information \n",
    "print(support2.variables) \n"
   ]
  },
  {
   "cell_type": "code",
   "execution_count": 13,
   "metadata": {},
   "outputs": [
    {
     "name": "stdout",
     "output_type": "stream",
     "text": [
      "Index(['age', 'sex', 'dzgroup', 'dzclass', 'num.co', 'edu', 'income', 'scoma',\n",
      "       'charges', 'totcst', 'totmcst', 'avtisst', 'race', 'sps', 'aps',\n",
      "       'surv2m', 'surv6m', 'hday', 'diabetes', 'dementia', 'ca', 'prg2m',\n",
      "       'prg6m', 'dnr', 'dnrday', 'meanbp', 'wblc', 'hrt', 'resp', 'temp',\n",
      "       'pafi', 'alb', 'bili', 'crea', 'sod', 'ph', 'glucose', 'bun', 'urine',\n",
      "       'adlp', 'adls', 'adlsc'],\n",
      "      dtype='object')\n"
     ]
    }
   ],
   "source": [
    "print(X.columns) # checking feature column names"
   ]
  },
  {
   "cell_type": "code",
   "execution_count": 14,
   "metadata": {},
   "outputs": [
    {
     "name": "stdout",
     "output_type": "stream",
     "text": [
      "Index(['death', 'hospdead', 'sfdm2'], dtype='object')\n"
     ]
    }
   ],
   "source": [
    "print(y.columns) # checking target column names"
   ]
  },
  {
   "cell_type": "code",
   "execution_count": 15,
   "metadata": {},
   "outputs": [
    {
     "name": "stdout",
     "output_type": "stream",
     "text": [
      "      death  hospdead                sfdm2\n",
      "0         0         0                  NaN\n",
      "1         1         1     <2 mo. follow-up\n",
      "2         1         0     <2 mo. follow-up\n",
      "3         1         0  no(M2 and SIP pres)\n",
      "4         0         0  no(M2 and SIP pres)\n",
      "...     ...       ...                  ...\n",
      "9100      0         0                  NaN\n",
      "9101      0         0                  NaN\n",
      "9102      0         0                  NaN\n",
      "9103      1         1     <2 mo. follow-up\n",
      "9104      1         0  no(M2 and SIP pres)\n",
      "\n",
      "[9105 rows x 3 columns]\n"
     ]
    }
   ],
   "source": [
    "print(y) # overview of targets"
   ]
  },
  {
   "cell_type": "code",
   "execution_count": 16,
   "metadata": {},
   "outputs": [
    {
     "name": "stdout",
     "output_type": "stream",
     "text": [
      "           age     sex            dzgroup             dzclass  num.co   edu  \\\n",
      "0     62.84998    male        Lung Cancer              Cancer       0  11.0   \n",
      "1     60.33899  female          Cirrhosis  COPD/CHF/Cirrhosis       2  12.0   \n",
      "2     52.74698  female          Cirrhosis  COPD/CHF/Cirrhosis       2  12.0   \n",
      "3     42.38498  female        Lung Cancer              Cancer       2  11.0   \n",
      "4     79.88495  female  ARF/MOSF w/Sepsis            ARF/MOSF       1   NaN   \n",
      "...        ...     ...                ...                 ...     ...   ...   \n",
      "9100  66.07300    male  ARF/MOSF w/Sepsis            ARF/MOSF       1   8.0   \n",
      "9101  55.15399  female               Coma                Coma       1  11.0   \n",
      "9102  70.38196    male  ARF/MOSF w/Sepsis            ARF/MOSF       1   NaN   \n",
      "9103  47.01999    male       MOSF w/Malig            ARF/MOSF       1  13.0   \n",
      "9104  81.53894  female  ARF/MOSF w/Sepsis            ARF/MOSF       1   8.0   \n",
      "\n",
      "          income  scoma  charges      totcst  ...      bili      crea    sod  \\\n",
      "0       $11-$25k    0.0   9715.0         NaN  ...  0.199982  1.199951  141.0   \n",
      "1       $11-$25k   44.0  34496.0         NaN  ...       NaN  5.500000  132.0   \n",
      "2     under $11k    0.0  41094.0         NaN  ...  2.199707  2.000000  134.0   \n",
      "3     under $11k    0.0   3075.0         NaN  ...       NaN  0.799927  139.0   \n",
      "4            NaN   26.0  50127.0         NaN  ...       NaN  0.799927  143.0   \n",
      "...          ...    ...      ...         ...  ...       ...       ...    ...   \n",
      "9100         NaN    0.0  52870.0  34329.3125  ...  0.399963  1.099854  131.0   \n",
      "9101         NaN   41.0  35377.0  23558.5000  ...       NaN  5.899414  135.0   \n",
      "9102         NaN    0.0  46564.0  31409.0156  ...  0.399963  2.699707  139.0   \n",
      "9103         NaN    0.0  58439.0         NaN  ...  0.399963  3.500000  135.0   \n",
      "9104    $11-$25k    0.0  15604.0  10605.7578  ...  0.599976  1.199951  137.0   \n",
      "\n",
      "            ph  glucose   bun   urine  adlp  adls     adlsc  \n",
      "0     7.459961      NaN   NaN     NaN   7.0   7.0  7.000000  \n",
      "1     7.250000      NaN   NaN     NaN   NaN   1.0  1.000000  \n",
      "2     7.459961      NaN   NaN     NaN   1.0   0.0  0.000000  \n",
      "3          NaN      NaN   NaN     NaN   0.0   0.0  0.000000  \n",
      "4     7.509766      NaN   NaN     NaN   NaN   2.0  2.000000  \n",
      "...        ...      ...   ...     ...   ...   ...       ...  \n",
      "9100  7.459961    188.0  21.0     NaN   NaN   0.0  0.000000  \n",
      "9101  7.289062    190.0  49.0     0.0   NaN   0.0  0.000000  \n",
      "9102  7.379883    189.0  60.0  3900.0   NaN   NaN  2.525391  \n",
      "9103  7.469727    246.0  55.0     NaN   NaN   0.0  0.000000  \n",
      "9104  7.289062    187.0  15.0     NaN   0.0   NaN  0.494751  \n",
      "\n",
      "[9105 rows x 42 columns]\n"
     ]
    }
   ],
   "source": [
    "print(X) # overview of features"
   ]
  },
  {
   "cell_type": "code",
   "execution_count": 40,
   "metadata": {},
   "outputs": [
    {
     "name": "stdout",
     "output_type": "stream",
     "text": [
      "        name                                        description\n",
      "0         id                                               None\n",
      "1        age                       Age of the patients in years\n",
      "2      death  Death at any time up to National Death Index (...\n",
      "3        sex  Gender of the patient. Listed values are {male...\n",
      "4   hospdead                                  Death in hospital\n",
      "5       slos                 Days from Study Entry to Discharge\n",
      "6     d.time                                  Days of follow-up\n",
      "7    dzgroup  The patient's disease sub category amogst ARF/...\n",
      "8    dzclass  The patient's disease category amongst \"ARF/MO...\n",
      "9     num.co  The number of simultaneous diseases (or comorb...\n",
      "10       edu                                 Years of education\n",
      "11    income  Income of the patient. Listed values are {\"$11...\n",
      "12     scoma  SUPPORT day 3 Coma Score based on Glasgow scal...\n",
      "13   charges                                   Hospital charges\n",
      "14    totcst         Total ratio of costs to charges (RCC) cost\n",
      "15   totmcst                                   Total micro cost\n",
      "16   avtisst  Average TISS score, days 3-25, where Therapeut...\n",
      "17      race  Race of the patient. Listed values are {asian,...\n",
      "18       sps  SUPPORT physiology score on day 3 (predicted b...\n",
      "19       aps  APACHE III day 3 physiology score (no coma, im...\n",
      "20    surv2m  SUPPORT model 2-month survival estimate at day...\n",
      "21    surv6m  SUPPORT model 6-month survival estimate at day...\n",
      "22      hday    Day in hospital at which patient entered study.\n",
      "23  diabetes  Whether the patient exhibits diabetes (Com 27-...\n",
      "24  dementia  Whether the patient exhibits dementia (Comorbi...\n",
      "25        ca  Whether the patient has cancer (yes), whether ...\n",
      "26     prg2m  Physician’s 2-month survival estimate for pati...\n",
      "27     prg6m  Physician’s 6-month survival estimate for pati...\n",
      "28       dnr  Whether the patient has a do not rescuscitate ...\n",
      "29    dnrday              Day of DNR order (<0 if before study)\n",
      "30    meanbp  mean arterial blood pressure of the patient, m...\n",
      "31      wblc  counts of white blood cells (in thousands) mea...\n",
      "32       hrt       heart rate of the patient measured at day 3.\n",
      "33      resp  respiration rate of the patient measured at da...\n",
      "34      temp  temperature in Celsius degrees measured at day 3.\n",
      "35      pafi  $PaO_2/FiO_2$ ratio measured at day 3. The rat...\n",
      "36       alb            serum albumin levels measured at day 3.\n",
      "37      bili                bilirubin levels measured at day 3.\n",
      "38      crea         serum creatinine levels measured at day 3.\n",
      "39       sod      serum sodium concentration measured at day 3.\n",
      "40        ph  Arterial blood pH. The pH of blood is usually ...\n",
      "41   glucose                  Glucose levels measured at day 3.\n",
      "42       bun      Blood urea nitrogen levels measured at day 3.\n",
      "43     urine                    Urine output measured at day 3.\n",
      "44      adlp  Index of Activities of Daily Living (ADL) of t...\n",
      "45      adls  Index of Activities of Daily Living (ADL) of t...\n",
      "46     sfdm2  Level of functional disability of the patient ...\n",
      "47     adlsc               Imputed ADL Calibrated to Surrogate.\n"
     ]
    }
   ],
   "source": [
    "testing = support2.variables\n",
    "print(testing[['name','description']]) # decoding the variable names to figure out which to keep and which aren't relevant. For the ones to keep, a mapping dictionary would be made to make column names more understandable."
   ]
  }
 ],
 "metadata": {
  "kernelspec": {
   "display_name": "Python 3",
   "language": "python",
   "name": "python3"
  },
  "language_info": {
   "codemirror_mode": {
    "name": "ipython",
    "version": 3
   },
   "file_extension": ".py",
   "mimetype": "text/x-python",
   "name": "python",
   "nbconvert_exporter": "python",
   "pygments_lexer": "ipython3",
   "version": "3.11.9"
  }
 },
 "nbformat": 4,
 "nbformat_minor": 2
}
